{
  "nbformat": 4,
  "nbformat_minor": 0,
  "metadata": {
    "accelerator": "GPU",
    "colab": {
      "name": "Copie de Projet_DL.ipynb",
      "provenance": [],
      "collapsed_sections": [
        "lXNhVxY8ARHH",
        "kp4kU0K6AOdk",
        "Twq3oVa1mJDG",
        "CsqtRh7KGtHt",
        "INXzUpIV_xwU",
        "YHUGp7kkbUPn",
        "nMjzALSp0USI",
        "0w4w9rqDn4HU",
        "0Pu9Kr_RLa-N"
      ],
      "toc_visible": true
    },
    "kernelspec": {
      "display_name": "Python 3",
      "name": "python3"
    },
    "widgets": {
      "application/vnd.jupyter.widget-state+json": {
        "c00a24a669124e519eb5009b5dd81a22": {
          "model_module": "@jupyter-widgets/controls",
          "model_name": "HBoxModel",
          "state": {
            "_view_name": "HBoxView",
            "_dom_classes": [],
            "_model_name": "HBoxModel",
            "_view_module": "@jupyter-widgets/controls",
            "_model_module_version": "1.5.0",
            "_view_count": null,
            "_view_module_version": "1.5.0",
            "box_style": "",
            "layout": "IPY_MODEL_fa28a9b9fd0d42de8ca3866ef2c010cf",
            "_model_module": "@jupyter-widgets/controls",
            "children": [
              "IPY_MODEL_9d1ecf249484448fa08a6c79f057858b",
              "IPY_MODEL_2b4022ba49ce41ec95cf2cbff4d3b3f6"
            ]
          }
        },
        "fa28a9b9fd0d42de8ca3866ef2c010cf": {
          "model_module": "@jupyter-widgets/base",
          "model_name": "LayoutModel",
          "state": {
            "_view_name": "LayoutView",
            "grid_template_rows": null,
            "right": null,
            "justify_content": null,
            "_view_module": "@jupyter-widgets/base",
            "overflow": null,
            "_model_module_version": "1.2.0",
            "_view_count": null,
            "flex_flow": null,
            "width": null,
            "min_width": null,
            "border": null,
            "align_items": null,
            "bottom": null,
            "_model_module": "@jupyter-widgets/base",
            "top": null,
            "grid_column": null,
            "overflow_y": null,
            "overflow_x": null,
            "grid_auto_flow": null,
            "grid_area": null,
            "grid_template_columns": null,
            "flex": null,
            "_model_name": "LayoutModel",
            "justify_items": null,
            "grid_row": null,
            "max_height": null,
            "align_content": null,
            "visibility": null,
            "align_self": null,
            "height": null,
            "min_height": null,
            "padding": null,
            "grid_auto_rows": null,
            "grid_gap": null,
            "max_width": null,
            "order": null,
            "_view_module_version": "1.2.0",
            "grid_template_areas": null,
            "object_position": null,
            "object_fit": null,
            "grid_auto_columns": null,
            "margin": null,
            "display": null,
            "left": null
          }
        },
        "9d1ecf249484448fa08a6c79f057858b": {
          "model_module": "@jupyter-widgets/controls",
          "model_name": "FloatProgressModel",
          "state": {
            "_view_name": "ProgressView",
            "style": "IPY_MODEL_dd65d29b681a459eb0097d6391eba86d",
            "_dom_classes": [],
            "description": "100%",
            "_model_name": "FloatProgressModel",
            "bar_style": "success",
            "max": 553433881,
            "_view_module": "@jupyter-widgets/controls",
            "_model_module_version": "1.5.0",
            "value": 553433881,
            "_view_count": null,
            "_view_module_version": "1.5.0",
            "orientation": "horizontal",
            "min": 0,
            "description_tooltip": null,
            "_model_module": "@jupyter-widgets/controls",
            "layout": "IPY_MODEL_98fa96f8b3954ee7b290a4a60f02dd46"
          }
        },
        "2b4022ba49ce41ec95cf2cbff4d3b3f6": {
          "model_module": "@jupyter-widgets/controls",
          "model_name": "HTMLModel",
          "state": {
            "_view_name": "HTMLView",
            "style": "IPY_MODEL_ac32cf92a45f4d5998c9c9416dda48a1",
            "_dom_classes": [],
            "description": "",
            "_model_name": "HTMLModel",
            "placeholder": "​",
            "_view_module": "@jupyter-widgets/controls",
            "_model_module_version": "1.5.0",
            "value": " 528M/528M [00:07&lt;00:00, 76.2MB/s]",
            "_view_count": null,
            "_view_module_version": "1.5.0",
            "description_tooltip": null,
            "_model_module": "@jupyter-widgets/controls",
            "layout": "IPY_MODEL_36734a44227741cfb9ff0be804e5bdba"
          }
        },
        "dd65d29b681a459eb0097d6391eba86d": {
          "model_module": "@jupyter-widgets/controls",
          "model_name": "ProgressStyleModel",
          "state": {
            "_view_name": "StyleView",
            "_model_name": "ProgressStyleModel",
            "description_width": "initial",
            "_view_module": "@jupyter-widgets/base",
            "_model_module_version": "1.5.0",
            "_view_count": null,
            "_view_module_version": "1.2.0",
            "bar_color": null,
            "_model_module": "@jupyter-widgets/controls"
          }
        },
        "98fa96f8b3954ee7b290a4a60f02dd46": {
          "model_module": "@jupyter-widgets/base",
          "model_name": "LayoutModel",
          "state": {
            "_view_name": "LayoutView",
            "grid_template_rows": null,
            "right": null,
            "justify_content": null,
            "_view_module": "@jupyter-widgets/base",
            "overflow": null,
            "_model_module_version": "1.2.0",
            "_view_count": null,
            "flex_flow": null,
            "width": null,
            "min_width": null,
            "border": null,
            "align_items": null,
            "bottom": null,
            "_model_module": "@jupyter-widgets/base",
            "top": null,
            "grid_column": null,
            "overflow_y": null,
            "overflow_x": null,
            "grid_auto_flow": null,
            "grid_area": null,
            "grid_template_columns": null,
            "flex": null,
            "_model_name": "LayoutModel",
            "justify_items": null,
            "grid_row": null,
            "max_height": null,
            "align_content": null,
            "visibility": null,
            "align_self": null,
            "height": null,
            "min_height": null,
            "padding": null,
            "grid_auto_rows": null,
            "grid_gap": null,
            "max_width": null,
            "order": null,
            "_view_module_version": "1.2.0",
            "grid_template_areas": null,
            "object_position": null,
            "object_fit": null,
            "grid_auto_columns": null,
            "margin": null,
            "display": null,
            "left": null
          }
        },
        "ac32cf92a45f4d5998c9c9416dda48a1": {
          "model_module": "@jupyter-widgets/controls",
          "model_name": "DescriptionStyleModel",
          "state": {
            "_view_name": "StyleView",
            "_model_name": "DescriptionStyleModel",
            "description_width": "",
            "_view_module": "@jupyter-widgets/base",
            "_model_module_version": "1.5.0",
            "_view_count": null,
            "_view_module_version": "1.2.0",
            "_model_module": "@jupyter-widgets/controls"
          }
        },
        "36734a44227741cfb9ff0be804e5bdba": {
          "model_module": "@jupyter-widgets/base",
          "model_name": "LayoutModel",
          "state": {
            "_view_name": "LayoutView",
            "grid_template_rows": null,
            "right": null,
            "justify_content": null,
            "_view_module": "@jupyter-widgets/base",
            "overflow": null,
            "_model_module_version": "1.2.0",
            "_view_count": null,
            "flex_flow": null,
            "width": null,
            "min_width": null,
            "border": null,
            "align_items": null,
            "bottom": null,
            "_model_module": "@jupyter-widgets/base",
            "top": null,
            "grid_column": null,
            "overflow_y": null,
            "overflow_x": null,
            "grid_auto_flow": null,
            "grid_area": null,
            "grid_template_columns": null,
            "flex": null,
            "_model_name": "LayoutModel",
            "justify_items": null,
            "grid_row": null,
            "max_height": null,
            "align_content": null,
            "visibility": null,
            "align_self": null,
            "height": null,
            "min_height": null,
            "padding": null,
            "grid_auto_rows": null,
            "grid_gap": null,
            "max_width": null,
            "order": null,
            "_view_module_version": "1.2.0",
            "grid_template_areas": null,
            "object_position": null,
            "object_fit": null,
            "grid_auto_columns": null,
            "margin": null,
            "display": null,
            "left": null
          }
        }
      }
    }
  },
  "cells": [
    {
      "cell_type": "markdown",
      "metadata": {
        "id": "KeE8F9LO_7ed"
      },
      "source": [
        "#Single-Image Super-Resolution for satellite imaging\n",
        "##Deep Learning Course - MVA 2020-2021\n",
        "####Quentin Spinat & Thomas Chabal"
      ]
    },
    {
      "cell_type": "markdown",
      "metadata": {
        "id": "lXNhVxY8ARHH"
      },
      "source": [
        "## Load drive"
      ]
    },
    {
      "cell_type": "code",
      "metadata": {
        "colab": {
          "base_uri": "https://localhost:8080/"
        },
        "id": "VNF73YG201Us",
        "outputId": "b5ba46fe-7068-4490-93ec-20eca69e190b"
      },
      "source": [
        "from google.colab import drive\n",
        "drive.mount('/content/drive/')\n",
        "\n",
        "%cd /content/drive/MyDrive/Super_Resolution_DL2020/Python/"
      ],
      "execution_count": null,
      "outputs": [
        {
          "output_type": "stream",
          "text": [
            "Drive already mounted at /content/drive/; to attempt to forcibly remount, call drive.mount(\"/content/drive/\", force_remount=True).\n",
            "/content/drive/MyDrive/Super_Resolution_DL2020/Python\n"
          ],
          "name": "stdout"
        }
      ]
    },
    {
      "cell_type": "markdown",
      "metadata": {
        "id": "kp4kU0K6AOdk"
      },
      "source": [
        "## Visualize dataset"
      ]
    },
    {
      "cell_type": "code",
      "metadata": {
        "id": "wtKV_3rx1DC9"
      },
      "source": [
        "from utils.visualizer import Visualizer\n",
        "from common.constants import DATA_ROOT\n",
        "from common.dataset import SatelliteDataset\n",
        "from common.transforms import create_transforms\n",
        "\n",
        "train_transforms, test_transforms = create_transforms()\n",
        "train_dataset = SatelliteDataset(DATA_ROOT, train_transforms, is_training_set=True)\n",
        "test_dataset = SatelliteDataset(DATA_ROOT, test_transforms, is_training_set=False)\n",
        "\n",
        "visualizer = Visualizer()\n",
        "\n",
        "print('Training example')\n",
        "visualizer.visualize_sample(train_dataset[0])\n",
        "\n",
        "print('Test example')\n",
        "visualizer.visualize_sample(test_dataset[0])"
      ],
      "execution_count": null,
      "outputs": []
    },
    {
      "cell_type": "markdown",
      "metadata": {
        "id": "Twq3oVa1mJDG"
      },
      "source": [
        "## Classical Computer Vision evaluations"
      ]
    },
    {
      "cell_type": "markdown",
      "metadata": {
        "id": "XooKzvRLmNm8"
      },
      "source": [
        "We compute evaluations of linear and spline interpolations looking at the L2 loss on the training set."
      ]
    },
    {
      "cell_type": "code",
      "metadata": {
        "id": "0yViGSDtkoBg"
      },
      "source": [
        "from classical_cv.cv2_resizer import Cv2ResizerEvaluation\n",
        "\n",
        "Cv2ResizerEvaluation().evaluate_dataset(train_dataset)"
      ],
      "execution_count": null,
      "outputs": []
    },
    {
      "cell_type": "code",
      "metadata": {
        "id": "UMoHEcDroclN"
      },
      "source": [
        "Cv2ResizerEvaluation().evaluate_dataset(test_dataset)"
      ],
      "execution_count": null,
      "outputs": []
    },
    {
      "cell_type": "code",
      "metadata": {
        "id": "EL-3wg5oXAjP"
      },
      "source": [
        "from classical_cv.spline import SplineEvaluation\n",
        "\n",
        "SplineEvaluation(order=5).evaluate_dataset(train_dataset)"
      ],
      "execution_count": null,
      "outputs": []
    },
    {
      "cell_type": "code",
      "metadata": {
        "id": "dYvbid0hoe8V"
      },
      "source": [
        "SplineEvaluation(order=5).evaluate_dataset(test_dataset)"
      ],
      "execution_count": null,
      "outputs": []
    },
    {
      "cell_type": "markdown",
      "metadata": {
        "id": "CsqtRh7KGtHt"
      },
      "source": [
        "## AUTOENCODER PART"
      ]
    },
    {
      "cell_type": "code",
      "metadata": {
        "id": "RaldqcWcG0P_"
      },
      "source": [
        "%cd /content/drive/MyDrive/Super_Resolution_DL2020/Python/\n",
        "\n",
        "from utils.visualizer import Visualizer\n",
        "from skimage import transform\n",
        "from common.dataset import SatelliteDataset\n",
        "from common.transforms import create_transforms, create_transforms_runet\n",
        "from autoencoder.AE_preprocess import patch_decomp, patch_recomp\n",
        "import collections\n",
        "\n",
        "from autoencoder.AE_model import AE,CDA,mapping\n",
        "from autoencoder.AE_train import train_AE, train_mapping, fine_tuning\n",
        "\n",
        "import numpy as np\n",
        "import matplotlib.pyplot as plt\n",
        "%matplotlib inline\n",
        "\n",
        "import torch\n",
        "use_cuda = torch.cuda.is_available()\n",
        "if use_cuda :\n",
        "    device=torch.device(\"cuda\")\n",
        "    print(\"using GPU\")\n",
        "else :\n",
        "    device=torch.device(\"cpu\")\n",
        "    print(\"using CPU\")\n",
        "\n",
        "\n",
        "\n",
        "\n",
        "DATA_ROOT = \"/content/drive/MyDrive/road_segmentation_ideal/\"\n",
        "\n",
        "train_transforms, test_transforms = create_transforms(128,128)\n",
        "\n",
        "train_dataset = SatelliteDataset(DATA_ROOT, train_transforms, is_training_set=True)\n",
        "test_dataset = SatelliteDataset(DATA_ROOT, test_transforms, is_training_set=False)"
      ],
      "execution_count": null,
      "outputs": []
    },
    {
      "cell_type": "markdown",
      "metadata": {
        "id": "ez63MSNtVOpR"
      },
      "source": [
        "### Test decomposition en patch et recomposition"
      ]
    },
    {
      "cell_type": "code",
      "metadata": {
        "id": "KQwa67UAMiyE"
      },
      "source": [
        "img = train_dataset[0][\"image\"].numpy()\n",
        "img_big = transform.resize(img, (img.shape[0],2*img.shape[1], 2*img.shape[2]))\n",
        "\n",
        "patches = patch_decomp(img_big)\n",
        "print(patches.shape)\n",
        "\n",
        "img_recomp = patch_recomp(patches,img_shape=img_big.shape)\n",
        "print(img_recomp.shape)\n",
        "\n",
        "plt.figure()\n",
        "plt.imshow(img.transpose((1,2,0)))\n",
        "\n",
        "plt.figure()\n",
        "plt.imshow(img_big.transpose((1,2,0)))\n",
        "\n",
        "plt.figure()\n",
        "plt.imshow(patches[0].transpose((1,2,0)))\n",
        "\n",
        "plt.figure()\n",
        "plt.imshow(img_recomp.transpose((1,2,0)))"
      ],
      "execution_count": null,
      "outputs": []
    },
    {
      "cell_type": "markdown",
      "metadata": {
        "id": "R7CSrAxBVdkQ"
      },
      "source": [
        "### Loading the dataset into torch"
      ]
    },
    {
      "cell_type": "code",
      "metadata": {
        "colab": {
          "base_uri": "https://localhost:8080/"
        },
        "id": "dV2-BTQ6VonE",
        "outputId": "55363cb2-22c9-40c7-b404-84428be81f4b"
      },
      "source": [
        "# C'est moche mais pas le choix\n",
        "\n",
        "patch_img=[]\n",
        "patch_label=[]\n",
        "\n",
        "N_img = 800\n",
        "N_patch_by_fig = 1000\n",
        "\n",
        "for i in range(N_img):\n",
        "  print(i,end=' ')\n",
        "  sample = train_dataset[i]\n",
        "  img = sample[\"image\"].numpy()\n",
        "  label = sample[\"label\"].numpy()\n",
        "  sample = torch.FloatTensor(patch_decomp(transform.resize(img, label.shape)))\n",
        "  random_elements = np.random.choice(np.arange(sample.shape[0]),N_patch_by_fig,replace=False)\n",
        "  sample = sample[random_elements]\n",
        "  label = torch.FloatTensor(patch_decomp(label))\n",
        "  label = label[random_elements]\n",
        "  patch_img.append(sample)\n",
        "  patch_label.append(label)\n",
        "\n",
        "patch_img = torch.cat(patch_img, dim=0).to(device)\n",
        "patch_label = torch.cat(patch_label, dim=0).to(device)\n",
        "\n",
        "print()\n",
        "print(patch_img.shape)"
      ],
      "execution_count": null,
      "outputs": [
        {
          "output_type": "stream",
          "text": [
            "0 1 2 3 4 5 6 7 8 9 10 11 12 13 14 15 16 17 18 19 20 21 22 23 24 25 26 27 28 29 30 31 32 33 34 35 36 37 38 39 40 41 42 43 44 45 46 47 48 49 50 51 52 53 54 55 56 57 58 59 60 61 62 63 64 65 66 67 68 69 70 71 72 73 74 75 76 77 78 79 80 81 82 83 84 85 86 87 88 89 90 91 92 93 94 95 96 97 98 99 100 101 102 103 104 105 106 107 108 109 110 111 112 113 114 115 116 117 118 119 120 121 122 123 124 125 126 127 128 129 130 131 132 133 134 135 136 137 138 139 140 141 142 143 144 145 146 147 148 149 150 151 152 153 154 155 156 157 158 159 160 161 162 163 164 165 166 167 168 169 170 171 172 173 174 175 176 177 178 179 180 181 182 183 184 185 186 187 188 189 190 191 192 193 194 195 196 197 198 199 200 201 202 203 204 205 206 207 208 209 210 211 212 213 214 215 216 217 218 219 220 221 222 223 224 225 226 227 228 229 230 231 232 233 234 235 236 237 238 239 240 241 242 243 244 245 246 247 248 249 250 251 252 253 254 255 256 257 258 259 260 261 262 263 264 265 266 267 268 269 270 271 272 273 274 275 276 277 278 279 280 281 282 283 284 285 286 287 288 289 290 291 292 293 294 295 296 297 298 299 300 301 302 303 304 305 306 307 308 309 310 311 312 313 314 315 316 317 318 319 320 321 322 323 324 325 326 327 328 329 330 331 332 333 334 335 336 337 338 339 340 341 342 343 344 345 346 347 348 349 350 351 352 353 354 355 356 357 358 359 360 361 362 363 364 365 366 367 368 369 370 371 372 373 374 375 376 377 378 379 380 381 382 383 384 385 386 387 388 389 390 391 392 393 394 395 396 397 398 399 400 401 402 403 404 405 406 407 408 409 410 411 412 413 414 415 416 417 418 419 420 421 422 423 424 425 426 427 428 429 430 431 432 433 434 435 436 437 438 439 440 441 442 443 444 445 446 447 448 449 450 451 452 453 454 455 456 457 458 459 460 461 462 463 464 465 466 467 468 469 470 471 472 473 474 475 476 477 478 479 480 481 482 483 484 485 486 487 488 489 490 491 492 493 494 495 496 497 498 499 500 501 502 503 504 505 506 507 508 509 510 511 512 513 514 515 516 517 518 519 520 521 522 523 524 525 526 527 528 529 530 531 532 533 534 535 536 537 538 539 540 541 542 543 544 545 546 547 548 549 550 551 552 553 554 555 556 557 558 559 560 561 562 563 564 565 566 567 568 569 570 571 572 573 574 575 576 577 578 579 580 581 582 583 584 585 586 587 588 589 590 591 592 593 594 595 596 597 598 599 600 601 602 603 604 605 606 607 608 609 610 611 612 613 614 615 616 617 618 619 620 621 622 623 624 625 626 627 628 629 630 631 632 633 634 635 636 637 638 639 640 641 642 643 644 645 646 647 648 649 650 651 652 653 654 655 656 657 658 659 660 661 662 663 664 665 666 667 668 669 670 671 672 673 674 675 676 677 678 679 680 681 682 683 684 685 686 687 688 689 690 691 692 693 694 695 696 697 698 699 700 701 702 703 704 705 706 707 708 709 710 711 712 713 714 715 716 717 718 719 720 721 722 723 724 725 726 727 728 729 730 731 732 733 734 735 736 737 738 739 740 741 742 743 744 745 746 747 748 749 750 751 752 753 754 755 756 757 758 759 760 761 762 763 764 765 766 767 768 769 770 771 772 773 774 775 776 777 778 779 780 781 782 783 784 785 786 787 788 789 790 791 792 793 794 795 796 797 798 799 \n",
            "torch.Size([800000, 3, 6, 6])\n"
          ],
          "name": "stdout"
        }
      ]
    },
    {
      "cell_type": "code",
      "metadata": {
        "id": "Hus9UbDkcSh-",
        "colab": {
          "base_uri": "https://localhost:8080/"
        },
        "outputId": "fff25980-fbe8-4cec-c5ba-90ce98f974e2"
      },
      "source": [
        "bs = 256\n",
        "num_epochs = 10\n",
        "\n",
        "#step1\n",
        "print(\"LR autoencoder training\")\n",
        "LR_AE = AE().to(device)\n",
        "train_dataset = torch.utils.data.TensorDataset(patch_img,patch_img)\n",
        "train_loader = torch.utils.data.DataLoader(train_dataset,batch_size=bs)\n",
        "for epoch in range(1,num_epochs+1):\n",
        "  train_AE(LR_AE,train_loader,epoch,log_interval=1000)\n",
        "torch.save(LR_AE.state_dict(), \"AE_LR_L2.pth\")\n",
        "\n",
        "#step2\n",
        "print(\"HR autoencoder training\")\n",
        "HR_AE = AE().to(device)\n",
        "train_dataset = torch.utils.data.TensorDataset(patch_label,patch_label)\n",
        "train_loader = torch.utils.data.DataLoader(train_dataset,batch_size=bs)\n",
        "for epoch in range(1,num_epochs+1):\n",
        "  train_AE(HR_AE,train_loader,epoch,log_interval=1000)\n",
        "torch.save(HR_AE.state_dict(), \"AE_HR_L2.pth\")\n"
      ],
      "execution_count": null,
      "outputs": [
        {
          "output_type": "stream",
          "text": [
            "LR autoencoder training\n",
            "Train Epoch: 1 [0/800000 (0%)]\tLoss: 0.050674\n",
            "Train Epoch: 1 [256000/800000 (32%)]\tLoss: 0.000368\n",
            "Train Epoch: 1 [512000/800000 (64%)]\tLoss: 0.000583\n",
            "Train Epoch: 1 [768000/800000 (96%)]\tLoss: 0.000144\n",
            "Train Epoch: 2 [0/800000 (0%)]\tLoss: 0.000327\n",
            "Train Epoch: 2 [256000/800000 (32%)]\tLoss: 0.000209\n",
            "Train Epoch: 2 [512000/800000 (64%)]\tLoss: 0.000495\n",
            "Train Epoch: 2 [768000/800000 (96%)]\tLoss: 0.000128\n",
            "Train Epoch: 3 [0/800000 (0%)]\tLoss: 0.000149\n",
            "Train Epoch: 3 [256000/800000 (32%)]\tLoss: 0.000117\n",
            "Train Epoch: 3 [512000/800000 (64%)]\tLoss: 0.000373\n",
            "Train Epoch: 3 [768000/800000 (96%)]\tLoss: 0.000079\n",
            "Train Epoch: 4 [0/800000 (0%)]\tLoss: 0.000106\n",
            "Train Epoch: 4 [256000/800000 (32%)]\tLoss: 0.000067\n",
            "Train Epoch: 4 [512000/800000 (64%)]\tLoss: 0.000322\n",
            "Train Epoch: 4 [768000/800000 (96%)]\tLoss: 0.000049\n",
            "Train Epoch: 5 [0/800000 (0%)]\tLoss: 0.000078\n",
            "Train Epoch: 5 [256000/800000 (32%)]\tLoss: 0.000065\n",
            "Train Epoch: 5 [512000/800000 (64%)]\tLoss: 0.000347\n",
            "Train Epoch: 5 [768000/800000 (96%)]\tLoss: 0.000034\n",
            "Train Epoch: 6 [0/800000 (0%)]\tLoss: 0.000062\n",
            "Train Epoch: 6 [256000/800000 (32%)]\tLoss: 0.000052\n",
            "Train Epoch: 6 [512000/800000 (64%)]\tLoss: 0.000273\n",
            "Train Epoch: 6 [768000/800000 (96%)]\tLoss: 0.000029\n",
            "Train Epoch: 7 [0/800000 (0%)]\tLoss: 0.000054\n",
            "Train Epoch: 7 [256000/800000 (32%)]\tLoss: 0.000066\n",
            "Train Epoch: 7 [512000/800000 (64%)]\tLoss: 0.000195\n",
            "Train Epoch: 7 [768000/800000 (96%)]\tLoss: 0.000027\n",
            "Train Epoch: 8 [0/800000 (0%)]\tLoss: 0.000052\n",
            "Train Epoch: 8 [256000/800000 (32%)]\tLoss: 0.000128\n",
            "Train Epoch: 8 [512000/800000 (64%)]\tLoss: 0.000270\n",
            "Train Epoch: 8 [768000/800000 (96%)]\tLoss: 0.000024\n",
            "Train Epoch: 9 [0/800000 (0%)]\tLoss: 0.000048\n",
            "Train Epoch: 9 [256000/800000 (32%)]\tLoss: 0.000040\n",
            "Train Epoch: 9 [512000/800000 (64%)]\tLoss: 0.000237\n",
            "Train Epoch: 9 [768000/800000 (96%)]\tLoss: 0.000022\n",
            "Train Epoch: 10 [0/800000 (0%)]\tLoss: 0.000042\n",
            "Train Epoch: 10 [256000/800000 (32%)]\tLoss: 0.000035\n",
            "Train Epoch: 10 [512000/800000 (64%)]\tLoss: 0.000161\n",
            "Train Epoch: 10 [768000/800000 (96%)]\tLoss: 0.000020\n",
            "HR autoencoder training\n",
            "Train Epoch: 1 [0/800000 (0%)]\tLoss: 0.067363\n",
            "Train Epoch: 1 [256000/800000 (32%)]\tLoss: 0.001530\n",
            "Train Epoch: 1 [512000/800000 (64%)]\tLoss: 0.001355\n",
            "Train Epoch: 1 [768000/800000 (96%)]\tLoss: 0.000529\n",
            "Train Epoch: 2 [0/800000 (0%)]\tLoss: 0.000694\n",
            "Train Epoch: 2 [256000/800000 (32%)]\tLoss: 0.000318\n",
            "Train Epoch: 2 [512000/800000 (64%)]\tLoss: 0.000836\n",
            "Train Epoch: 2 [768000/800000 (96%)]\tLoss: 0.000209\n",
            "Train Epoch: 3 [0/800000 (0%)]\tLoss: 0.000317\n",
            "Train Epoch: 3 [256000/800000 (32%)]\tLoss: 0.000171\n",
            "Train Epoch: 3 [512000/800000 (64%)]\tLoss: 0.000711\n",
            "Train Epoch: 3 [768000/800000 (96%)]\tLoss: 0.000166\n",
            "Train Epoch: 4 [0/800000 (0%)]\tLoss: 0.000275\n",
            "Train Epoch: 4 [256000/800000 (32%)]\tLoss: 0.000159\n",
            "Train Epoch: 4 [512000/800000 (64%)]\tLoss: 0.000750\n",
            "Train Epoch: 4 [768000/800000 (96%)]\tLoss: 0.000148\n",
            "Train Epoch: 5 [0/800000 (0%)]\tLoss: 0.000249\n",
            "Train Epoch: 5 [256000/800000 (32%)]\tLoss: 0.000124\n",
            "Train Epoch: 5 [512000/800000 (64%)]\tLoss: 0.000871\n",
            "Train Epoch: 5 [768000/800000 (96%)]\tLoss: 0.000138\n",
            "Train Epoch: 6 [0/800000 (0%)]\tLoss: 0.000238\n",
            "Train Epoch: 6 [256000/800000 (32%)]\tLoss: 0.000150\n",
            "Train Epoch: 6 [512000/800000 (64%)]\tLoss: 0.000541\n",
            "Train Epoch: 6 [768000/800000 (96%)]\tLoss: 0.000128\n",
            "Train Epoch: 7 [0/800000 (0%)]\tLoss: 0.000225\n",
            "Train Epoch: 7 [256000/800000 (32%)]\tLoss: 0.000147\n",
            "Train Epoch: 7 [512000/800000 (64%)]\tLoss: 0.000370\n",
            "Train Epoch: 7 [768000/800000 (96%)]\tLoss: 0.000120\n",
            "Train Epoch: 8 [0/800000 (0%)]\tLoss: 0.000211\n",
            "Train Epoch: 8 [256000/800000 (32%)]\tLoss: 0.000102\n",
            "Train Epoch: 8 [512000/800000 (64%)]\tLoss: 0.000369\n",
            "Train Epoch: 8 [768000/800000 (96%)]\tLoss: 0.000113\n",
            "Train Epoch: 9 [0/800000 (0%)]\tLoss: 0.000188\n",
            "Train Epoch: 9 [256000/800000 (32%)]\tLoss: 0.000100\n",
            "Train Epoch: 9 [512000/800000 (64%)]\tLoss: 0.000282\n",
            "Train Epoch: 9 [768000/800000 (96%)]\tLoss: 0.000129\n",
            "Train Epoch: 10 [0/800000 (0%)]\tLoss: 0.000160\n",
            "Train Epoch: 10 [256000/800000 (32%)]\tLoss: 0.000103\n",
            "Train Epoch: 10 [512000/800000 (64%)]\tLoss: 0.000283\n",
            "Train Epoch: 10 [768000/800000 (96%)]\tLoss: 0.000122\n"
          ],
          "name": "stdout"
        }
      ]
    },
    {
      "cell_type": "code",
      "metadata": {
        "colab": {
          "base_uri": "https://localhost:8080/"
        },
        "id": "Z5L7Lf7ezbkt",
        "outputId": "efe822df-b048-4c5c-ef86-2f1baec058be"
      },
      "source": [
        "#step3\n",
        "print(\"mapping training\")\n",
        "model_mapping = mapping().to(device)\n",
        "train_dataset = torch.utils.data.TensorDataset(patch_img,patch_label)\n",
        "train_loader = torch.utils.data.DataLoader(train_dataset,batch_size=bs)\n",
        "for epoch in range(1,num_epochs+1):\n",
        "  train_mapping(LR_AE,model_mapping,HR_AE,train_loader,epoch,log_interval=1000)\n",
        "torch.save(model_mapping.state_dict(), \"AE_mapping_L2.pth\")\n"
      ],
      "execution_count": null,
      "outputs": [
        {
          "output_type": "stream",
          "text": [
            "mapping training\n",
            "Train Epoch: 1 [0/800000 (0%)]\tLoss: 0.116190\n",
            "Train Epoch: 1 [256000/800000 (32%)]\tLoss: 0.001211\n",
            "Train Epoch: 1 [512000/800000 (64%)]\tLoss: 0.001268\n",
            "Train Epoch: 1 [768000/800000 (96%)]\tLoss: 0.001215\n",
            "Train Epoch: 2 [0/800000 (0%)]\tLoss: 0.001454\n",
            "Train Epoch: 2 [256000/800000 (32%)]\tLoss: 0.000765\n",
            "Train Epoch: 2 [512000/800000 (64%)]\tLoss: 0.001025\n",
            "Train Epoch: 2 [768000/800000 (96%)]\tLoss: 0.001072\n",
            "Train Epoch: 3 [0/800000 (0%)]\tLoss: 0.001257\n",
            "Train Epoch: 3 [256000/800000 (32%)]\tLoss: 0.000724\n",
            "Train Epoch: 3 [512000/800000 (64%)]\tLoss: 0.001000\n",
            "Train Epoch: 3 [768000/800000 (96%)]\tLoss: 0.001049\n",
            "Train Epoch: 4 [0/800000 (0%)]\tLoss: 0.001235\n",
            "Train Epoch: 4 [256000/800000 (32%)]\tLoss: 0.000713\n",
            "Train Epoch: 4 [512000/800000 (64%)]\tLoss: 0.000991\n",
            "Train Epoch: 4 [768000/800000 (96%)]\tLoss: 0.001040\n",
            "Train Epoch: 5 [0/800000 (0%)]\tLoss: 0.001226\n",
            "Train Epoch: 5 [256000/800000 (32%)]\tLoss: 0.000708\n",
            "Train Epoch: 5 [512000/800000 (64%)]\tLoss: 0.000986\n",
            "Train Epoch: 5 [768000/800000 (96%)]\tLoss: 0.001034\n",
            "Train Epoch: 6 [0/800000 (0%)]\tLoss: 0.001220\n",
            "Train Epoch: 6 [256000/800000 (32%)]\tLoss: 0.000704\n",
            "Train Epoch: 6 [512000/800000 (64%)]\tLoss: 0.000982\n",
            "Train Epoch: 6 [768000/800000 (96%)]\tLoss: 0.001030\n",
            "Train Epoch: 7 [0/800000 (0%)]\tLoss: 0.001216\n",
            "Train Epoch: 7 [256000/800000 (32%)]\tLoss: 0.000702\n",
            "Train Epoch: 7 [512000/800000 (64%)]\tLoss: 0.000979\n",
            "Train Epoch: 7 [768000/800000 (96%)]\tLoss: 0.001027\n",
            "Train Epoch: 8 [0/800000 (0%)]\tLoss: 0.001213\n",
            "Train Epoch: 8 [256000/800000 (32%)]\tLoss: 0.000700\n",
            "Train Epoch: 8 [512000/800000 (64%)]\tLoss: 0.000977\n",
            "Train Epoch: 8 [768000/800000 (96%)]\tLoss: 0.001024\n",
            "Train Epoch: 9 [0/800000 (0%)]\tLoss: 0.001211\n",
            "Train Epoch: 9 [256000/800000 (32%)]\tLoss: 0.000699\n",
            "Train Epoch: 9 [512000/800000 (64%)]\tLoss: 0.000975\n",
            "Train Epoch: 9 [768000/800000 (96%)]\tLoss: 0.001022\n",
            "Train Epoch: 10 [0/800000 (0%)]\tLoss: 0.001209\n",
            "Train Epoch: 10 [256000/800000 (32%)]\tLoss: 0.000697\n",
            "Train Epoch: 10 [512000/800000 (64%)]\tLoss: 0.000974\n",
            "Train Epoch: 10 [768000/800000 (96%)]\tLoss: 0.001021\n"
          ],
          "name": "stdout"
        }
      ]
    },
    {
      "cell_type": "code",
      "metadata": {
        "colab": {
          "base_uri": "https://localhost:8080/"
        },
        "id": "hkYal5rj2QbI",
        "outputId": "a153b738-2f94-495a-af26-4f40fd307f25"
      },
      "source": [
        "#step4\n",
        "model_CDA = CDA().to(device)\n",
        "model_CDA.load_state_dict(collections.OrderedDict([('enc.weight',LR_AE.enc.weight),\n",
        "                                           ('enc.bias',LR_AE.enc.bias),\n",
        "                                           ('map.weight',model_mapping.map.weight),\n",
        "                                           ('map.bias',model_mapping.map.bias),\n",
        "                                           ('dec.weight',HR_AE.dec.weight),\n",
        "                                           ('dec.bias',HR_AE.dec.bias)\n",
        "                                                ]))\n",
        "\n",
        "for epoch in range(1,num_epochs+1):\n",
        "  fine_tuning(model_CDA,train_loader,epoch,lr=0.001,log_interval=1000)\n",
        "torch.save(model_CDA.state_dict(), \"AE_CDA_L2.pth\")"
      ],
      "execution_count": null,
      "outputs": [
        {
          "output_type": "stream",
          "text": [
            "Train Epoch: 1 [0/800000 (0%)]\tLoss: 0.003085\n",
            "Train Epoch: 1 [256000/800000 (32%)]\tLoss: 0.001686\n",
            "Train Epoch: 1 [512000/800000 (64%)]\tLoss: 0.002436\n",
            "Train Epoch: 1 [768000/800000 (96%)]\tLoss: 0.002376\n",
            "Train Epoch: 2 [0/800000 (0%)]\tLoss: 0.003035\n",
            "Train Epoch: 2 [256000/800000 (32%)]\tLoss: 0.001670\n",
            "Train Epoch: 2 [512000/800000 (64%)]\tLoss: 0.002411\n",
            "Train Epoch: 2 [768000/800000 (96%)]\tLoss: 0.002357\n",
            "Train Epoch: 3 [0/800000 (0%)]\tLoss: 0.003012\n",
            "Train Epoch: 3 [256000/800000 (32%)]\tLoss: 0.001664\n",
            "Train Epoch: 3 [512000/800000 (64%)]\tLoss: 0.002398\n",
            "Train Epoch: 3 [768000/800000 (96%)]\tLoss: 0.002346\n",
            "Train Epoch: 4 [0/800000 (0%)]\tLoss: 0.002994\n",
            "Train Epoch: 4 [256000/800000 (32%)]\tLoss: 0.001663\n",
            "Train Epoch: 4 [512000/800000 (64%)]\tLoss: 0.002387\n",
            "Train Epoch: 4 [768000/800000 (96%)]\tLoss: 0.002340\n",
            "Train Epoch: 5 [0/800000 (0%)]\tLoss: 0.002978\n",
            "Train Epoch: 5 [256000/800000 (32%)]\tLoss: 0.001656\n",
            "Train Epoch: 5 [512000/800000 (64%)]\tLoss: 0.002377\n",
            "Train Epoch: 5 [768000/800000 (96%)]\tLoss: 0.002336\n",
            "Train Epoch: 6 [0/800000 (0%)]\tLoss: 0.002964\n",
            "Train Epoch: 6 [256000/800000 (32%)]\tLoss: 0.001646\n",
            "Train Epoch: 6 [512000/800000 (64%)]\tLoss: 0.002369\n",
            "Train Epoch: 6 [768000/800000 (96%)]\tLoss: 0.002332\n",
            "Train Epoch: 7 [0/800000 (0%)]\tLoss: 0.002951\n",
            "Train Epoch: 7 [256000/800000 (32%)]\tLoss: 0.001636\n",
            "Train Epoch: 7 [512000/800000 (64%)]\tLoss: 0.002362\n",
            "Train Epoch: 7 [768000/800000 (96%)]\tLoss: 0.002329\n",
            "Train Epoch: 8 [0/800000 (0%)]\tLoss: 0.002940\n",
            "Train Epoch: 8 [256000/800000 (32%)]\tLoss: 0.001631\n",
            "Train Epoch: 8 [512000/800000 (64%)]\tLoss: 0.002357\n",
            "Train Epoch: 8 [768000/800000 (96%)]\tLoss: 0.002328\n",
            "Train Epoch: 9 [0/800000 (0%)]\tLoss: 0.002931\n",
            "Train Epoch: 9 [256000/800000 (32%)]\tLoss: 0.001630\n",
            "Train Epoch: 9 [512000/800000 (64%)]\tLoss: 0.002352\n",
            "Train Epoch: 9 [768000/800000 (96%)]\tLoss: 0.002327\n",
            "Train Epoch: 10 [0/800000 (0%)]\tLoss: 0.002924\n",
            "Train Epoch: 10 [256000/800000 (32%)]\tLoss: 0.001629\n",
            "Train Epoch: 10 [512000/800000 (64%)]\tLoss: 0.002348\n",
            "Train Epoch: 10 [768000/800000 (96%)]\tLoss: 0.002325\n"
          ],
          "name": "stdout"
        }
      ]
    },
    {
      "cell_type": "markdown",
      "metadata": {
        "id": "PFLsrNftJanB"
      },
      "source": [
        "### Test du réseau entrainé"
      ]
    },
    {
      "cell_type": "code",
      "metadata": {
        "id": "1V9sH4mLGMkc"
      },
      "source": [
        "DATA_ROOT = \"/content/drive/MyDrive/road_segmentation_ideal/\"\n",
        "\n",
        "from autoencoder.AE_model import CDA\n",
        "from autoencoder.visu import visu\n",
        "from skimage import transform\n",
        "import matplotlib.pyplot as plt\n",
        "import torch\n",
        "use_cuda = torch.cuda.is_available()\n",
        "if use_cuda :\n",
        "    device=torch.device(\"cuda\")\n",
        "    print(\"using GPU\")\n",
        "else :\n",
        "    device=torch.device(\"cpu\")\n",
        "    print(\"using CPU\")\n",
        "\n",
        "model_CDA = CDA().to(device)\n",
        "model_CDA.load_state_dict(torch.load(\"AE_CDA_L2.pth\"))\n",
        "model_CDA.eval()\n",
        "\n",
        "train_transforms, test_transforms = create_transforms(128,128)\n",
        "\n",
        "train_dataset = SatelliteDataset(DATA_ROOT, train_transforms, is_training_set=True)\n",
        "test_dataset = SatelliteDataset(DATA_ROOT, test_transforms, is_training_set=False)\n",
        "\n",
        "visu(model_CDA,test_dataset,8)"
      ],
      "execution_count": null,
      "outputs": []
    },
    {
      "cell_type": "code",
      "metadata": {
        "colab": {
          "base_uri": "https://localhost:8080/",
          "height": 173,
          "referenced_widgets": [
            "c00a24a669124e519eb5009b5dd81a22",
            "fa28a9b9fd0d42de8ca3866ef2c010cf",
            "9d1ecf249484448fa08a6c79f057858b",
            "2b4022ba49ce41ec95cf2cbff4d3b3f6",
            "dd65d29b681a459eb0097d6391eba86d",
            "98fa96f8b3954ee7b290a4a60f02dd46",
            "ac32cf92a45f4d5998c9c9416dda48a1",
            "36734a44227741cfb9ff0be804e5bdba"
          ]
        },
        "id": "IpaQxS6_RtF3",
        "outputId": "69fefc23-36bb-4787-e8a7-f7962752677d"
      },
      "source": [
        "from autoencoder.evaluate import test_model\n",
        "\n",
        "res = test_model(model_CDA,test_dataset)"
      ],
      "execution_count": null,
      "outputs": [
        {
          "output_type": "stream",
          "text": [
            "Downloading: \"https://download.pytorch.org/models/vgg16-397923af.pth\" to /root/.cache/torch/hub/checkpoints/vgg16-397923af.pth\n"
          ],
          "name": "stderr"
        },
        {
          "output_type": "display_data",
          "data": {
            "application/vnd.jupyter.widget-view+json": {
              "model_id": "c00a24a669124e519eb5009b5dd81a22",
              "version_minor": 0,
              "version_major": 2
            },
            "text/plain": [
              "HBox(children=(FloatProgress(value=0.0, max=553433881.0), HTML(value='')))"
            ]
          },
          "metadata": {
            "tags": []
          }
        },
        {
          "output_type": "stream",
          "text": [
            "\n",
            "Mean PSNR of 25.446 on test set with std of 1.704\n",
            "Mean SSIM of 0.92243 on test set with std of 0.03976\n",
            "Mean MSE of 0.0018783 on test set with std of 0.0005505\n",
            "Mean VGG-Perceptual of 5.28254 on test set with std of 0.74915\n"
          ],
          "name": "stdout"
        }
      ]
    },
    {
      "cell_type": "markdown",
      "metadata": {
        "id": "INXzUpIV_xwU"
      },
      "source": [
        "## GAN SUPER-RESOLUTION"
      ]
    },
    {
      "cell_type": "code",
      "metadata": {
        "id": "zg0bU3UV_0fA"
      },
      "source": [
        "!git clone https://github.com/idealo/image-super-resolution.git\n",
        "%cd /content/image-super-resolution/\n",
        "!python setup.py install\n",
        "%cd /content/drive/MyDrive/Super_Resolution_DL2020/Python/"
      ],
      "execution_count": null,
      "outputs": []
    },
    {
      "cell_type": "markdown",
      "metadata": {
        "id": "YHUGp7kkbUPn"
      },
      "source": [
        "### Visu GANs"
      ]
    },
    {
      "cell_type": "code",
      "metadata": {
        "id": "jKdn23nxcoib"
      },
      "source": [
        "from rrdn_gans.visualizer import GANsVisualizer\n",
        "\n",
        "visualizer_gans = GANsVisualizer()\n",
        "visualizer_gans.visualize_gans(batch_size=8)"
      ],
      "execution_count": null,
      "outputs": []
    },
    {
      "cell_type": "markdown",
      "metadata": {
        "id": "nMjzALSp0USI"
      },
      "source": [
        "### Evaluate quantitatively the RRDN"
      ]
    },
    {
      "cell_type": "code",
      "metadata": {
        "id": "2to95Fj60XeR"
      },
      "source": [
        "from rrdn_gans.evaluate import RRDNEvaluation\n",
        "\n",
        "evaluation_rrdn = RRDNEvaluation(patch_size=128)\n",
        "evaluation_rrdn.evaluate()"
      ],
      "execution_count": null,
      "outputs": []
    },
    {
      "cell_type": "markdown",
      "metadata": {
        "id": "0w4w9rqDn4HU"
      },
      "source": [
        "## RUNET"
      ]
    },
    {
      "cell_type": "markdown",
      "metadata": {
        "id": "2wlq01di9S_T"
      },
      "source": [
        "### Training"
      ]
    },
    {
      "cell_type": "code",
      "metadata": {
        "id": "otgsVaF9oARs"
      },
      "source": [
        "from runet.main import train_runet\n",
        "\n",
        "train_runet(img_size=128, train_bs=32, test_bs=1, lr=0.001)"
      ],
      "execution_count": null,
      "outputs": []
    },
    {
      "cell_type": "markdown",
      "metadata": {
        "id": "-smOzKI30C16"
      },
      "source": [
        "### Visualize the results of RUNet"
      ]
    },
    {
      "cell_type": "code",
      "metadata": {
        "id": "i19OKVOpp3Gf"
      },
      "source": [
        "from runet.visualize import RUNetVisualizer\n",
        "\n",
        "checkpoint_unet = \"checkpoints/perceptual_loss_RUNET_var_blur.pth\"\n",
        "\n",
        "visualizer_runet = RUNetVisualizer()\n",
        "visualizer_runet.visualize_runet(checkpoint_unet, batch_size=8)"
      ],
      "execution_count": null,
      "outputs": []
    },
    {
      "cell_type": "markdown",
      "metadata": {
        "id": "Hd7fz71G0NDi"
      },
      "source": [
        "### Evaluate quantitatively the RUNet"
      ]
    },
    {
      "cell_type": "code",
      "metadata": {
        "id": "0QuQkTtH0LTv"
      },
      "source": [
        "from runet.evaluate import RUNetEvaluation\n",
        "\n",
        "checkpoint_unet = \"checkpoints/perceptual_loss_RUNET_var_blur.pth\"\n",
        "evaluator_runet = RUNetEvaluation()\n",
        "evaluator_runet.evaluate(checkpoint_unet)"
      ],
      "execution_count": null,
      "outputs": []
    },
    {
      "cell_type": "markdown",
      "metadata": {
        "id": "0Pu9Kr_RLa-N"
      },
      "source": [
        "## General visualization"
      ]
    },
    {
      "cell_type": "code",
      "metadata": {
        "id": "dp1PoR4DQWYp"
      },
      "source": [
        "import torch\n",
        "from ISR.models import RRDN\n",
        "\n",
        "from common.constants import DATA_ROOT\n",
        "from common.dataset import SatelliteDataset\n",
        "from common.transforms import create_transforms\n",
        "from runet.runet import RUNet\n",
        "from global_visualization import visualize_all_models\n",
        "\n",
        "\n",
        "train_transforms, test_transforms = create_transforms(128, 128)\n",
        "train_dataset = SatelliteDataset(DATA_ROOT, train_transforms, is_training_set=True)\n",
        "test_dataset = SatelliteDataset(DATA_ROOT, test_transforms, is_training_set=False)\n",
        "\n",
        "model_RRDN = RRDN(weights=\"gans\", patch_size=64)\n",
        "\n",
        "model_CDA = CDA().to(device)\n",
        "model_CDA.load_state_dict(torch.load(\"AE_CDA_L2.pth\"))\n",
        "model_CDA.eval()\n",
        "\n",
        "model_RUNET = RUNet().to(device)\n",
        "model_RUNET.load_state_dict(torch.load(\"checkpoints/perceptual_loss_RUNET_var_blur.pth\"))\n",
        "model_RUNET.eval()\n",
        "\n",
        "visualize_all_models(model_CDA, model_RUNET, model_RRDN, test_dataset, num_images=1, image_id=0)"
      ],
      "execution_count": null,
      "outputs": []
    }
  ]
}